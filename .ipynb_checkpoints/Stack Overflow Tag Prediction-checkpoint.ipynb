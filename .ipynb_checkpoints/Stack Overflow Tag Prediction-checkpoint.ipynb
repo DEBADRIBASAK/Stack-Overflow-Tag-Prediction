{
 "cells": [
  {
   "cell_type": "code",
   "execution_count": 1,
   "metadata": {},
   "outputs": [],
   "source": [
    "import numpy as np\n",
    "import pandas as pd\n",
    "import pickle\n",
    "import re\n",
    "from collections import Counter"
   ]
  },
  {
   "cell_type": "code",
   "execution_count": 2,
   "metadata": {},
   "outputs": [],
   "source": [
    "df = pd.read_pickle('Subset.pkl')"
   ]
  },
  {
   "cell_type": "code",
   "execution_count": 3,
   "metadata": {},
   "outputs": [
    {
     "data": {
      "text/html": [
       "<div>\n",
       "<style scoped>\n",
       "    .dataframe tbody tr th:only-of-type {\n",
       "        vertical-align: middle;\n",
       "    }\n",
       "\n",
       "    .dataframe tbody tr th {\n",
       "        vertical-align: top;\n",
       "    }\n",
       "\n",
       "    .dataframe thead th {\n",
       "        text-align: right;\n",
       "    }\n",
       "</style>\n",
       "<table border=\"1\" class=\"dataframe\">\n",
       "  <thead>\n",
       "    <tr style=\"text-align: right;\">\n",
       "      <th></th>\n",
       "      <th>Title</th>\n",
       "      <th>Body</th>\n",
       "      <th>Tag</th>\n",
       "    </tr>\n",
       "  </thead>\n",
       "  <tbody>\n",
       "    <tr>\n",
       "      <th>0</th>\n",
       "      <td>Make a dynamic GridView to fit screen android</td>\n",
       "      <td>&lt;p&gt;I have a GridView that can contain NxM Cust...</td>\n",
       "      <td>android</td>\n",
       "    </tr>\n",
       "    <tr>\n",
       "      <th>1</th>\n",
       "      <td>image/video processing options</td>\n",
       "      <td>&lt;p&gt;I have a small 12 volt board camera that is...</td>\n",
       "      <td>python</td>\n",
       "    </tr>\n",
       "    <tr>\n",
       "      <th>2</th>\n",
       "      <td>Error while using HttpConnection</td>\n",
       "      <td>&lt;p&gt;&lt;strong&gt;QUESTION&lt;/strong&gt;&lt;/p&gt;\\n\\n&lt;p&gt;I am tr...</td>\n",
       "      <td>java</td>\n",
       "    </tr>\n",
       "    <tr>\n",
       "      <th>3</th>\n",
       "      <td>Marker icon not showing up but is clickable</td>\n",
       "      <td>&lt;p&gt;I've got the following code which gets info...</td>\n",
       "      <td>android</td>\n",
       "    </tr>\n",
       "    <tr>\n",
       "      <th>4</th>\n",
       "      <td>Swift - Trouble with SKAction sequence</td>\n",
       "      <td>&lt;p&gt;I'm trying to move my background image down...</td>\n",
       "      <td>ios</td>\n",
       "    </tr>\n",
       "  </tbody>\n",
       "</table>\n",
       "</div>"
      ],
      "text/plain": [
       "                                           Title  \\\n",
       "0  Make a dynamic GridView to fit screen android   \n",
       "1                 image/video processing options   \n",
       "2               Error while using HttpConnection   \n",
       "3    Marker icon not showing up but is clickable   \n",
       "4         Swift - Trouble with SKAction sequence   \n",
       "\n",
       "                                                Body      Tag  \n",
       "0  <p>I have a GridView that can contain NxM Cust...  android  \n",
       "1  <p>I have a small 12 volt board camera that is...   python  \n",
       "2  <p><strong>QUESTION</strong></p>\\n\\n<p>I am tr...     java  \n",
       "3  <p>I've got the following code which gets info...  android  \n",
       "4  <p>I'm trying to move my background image down...      ios  "
      ]
     },
     "execution_count": 3,
     "metadata": {},
     "output_type": "execute_result"
    }
   ],
   "source": [
    "df.head()"
   ]
  },
  {
   "cell_type": "code",
   "execution_count": 5,
   "metadata": {},
   "outputs": [
    {
     "data": {
      "text/plain": [
       "(22164, 3)"
      ]
     },
     "execution_count": 5,
     "metadata": {},
     "output_type": "execute_result"
    }
   ],
   "source": [
    "df.shape"
   ]
  },
  {
   "cell_type": "code",
   "execution_count": 6,
   "metadata": {},
   "outputs": [],
   "source": [
    "df['text'] = df['Title']+df['Body'] #combining the title with body"
   ]
  },
  {
   "cell_type": "code",
   "execution_count": 7,
   "metadata": {},
   "outputs": [
    {
     "data": {
      "text/html": [
       "<div>\n",
       "<style scoped>\n",
       "    .dataframe tbody tr th:only-of-type {\n",
       "        vertical-align: middle;\n",
       "    }\n",
       "\n",
       "    .dataframe tbody tr th {\n",
       "        vertical-align: top;\n",
       "    }\n",
       "\n",
       "    .dataframe thead th {\n",
       "        text-align: right;\n",
       "    }\n",
       "</style>\n",
       "<table border=\"1\" class=\"dataframe\">\n",
       "  <thead>\n",
       "    <tr style=\"text-align: right;\">\n",
       "      <th></th>\n",
       "      <th>Title</th>\n",
       "      <th>Body</th>\n",
       "      <th>Tag</th>\n",
       "      <th>text</th>\n",
       "    </tr>\n",
       "  </thead>\n",
       "  <tbody>\n",
       "    <tr>\n",
       "      <th>0</th>\n",
       "      <td>Make a dynamic GridView to fit screen android</td>\n",
       "      <td>&lt;p&gt;I have a GridView that can contain NxM Cust...</td>\n",
       "      <td>android</td>\n",
       "      <td>Make a dynamic GridView to fit screen android&lt;...</td>\n",
       "    </tr>\n",
       "    <tr>\n",
       "      <th>1</th>\n",
       "      <td>image/video processing options</td>\n",
       "      <td>&lt;p&gt;I have a small 12 volt board camera that is...</td>\n",
       "      <td>python</td>\n",
       "      <td>image/video processing options&lt;p&gt;I have a smal...</td>\n",
       "    </tr>\n",
       "    <tr>\n",
       "      <th>2</th>\n",
       "      <td>Error while using HttpConnection</td>\n",
       "      <td>&lt;p&gt;&lt;strong&gt;QUESTION&lt;/strong&gt;&lt;/p&gt;\\n\\n&lt;p&gt;I am tr...</td>\n",
       "      <td>java</td>\n",
       "      <td>Error while using HttpConnection&lt;p&gt;&lt;strong&gt;QUE...</td>\n",
       "    </tr>\n",
       "    <tr>\n",
       "      <th>3</th>\n",
       "      <td>Marker icon not showing up but is clickable</td>\n",
       "      <td>&lt;p&gt;I've got the following code which gets info...</td>\n",
       "      <td>android</td>\n",
       "      <td>Marker icon not showing up but is clickable&lt;p&gt;...</td>\n",
       "    </tr>\n",
       "    <tr>\n",
       "      <th>4</th>\n",
       "      <td>Swift - Trouble with SKAction sequence</td>\n",
       "      <td>&lt;p&gt;I'm trying to move my background image down...</td>\n",
       "      <td>ios</td>\n",
       "      <td>Swift - Trouble with SKAction sequence&lt;p&gt;I'm t...</td>\n",
       "    </tr>\n",
       "  </tbody>\n",
       "</table>\n",
       "</div>"
      ],
      "text/plain": [
       "                                           Title  \\\n",
       "0  Make a dynamic GridView to fit screen android   \n",
       "1                 image/video processing options   \n",
       "2               Error while using HttpConnection   \n",
       "3    Marker icon not showing up but is clickable   \n",
       "4         Swift - Trouble with SKAction sequence   \n",
       "\n",
       "                                                Body      Tag  \\\n",
       "0  <p>I have a GridView that can contain NxM Cust...  android   \n",
       "1  <p>I have a small 12 volt board camera that is...   python   \n",
       "2  <p><strong>QUESTION</strong></p>\\n\\n<p>I am tr...     java   \n",
       "3  <p>I've got the following code which gets info...  android   \n",
       "4  <p>I'm trying to move my background image down...      ios   \n",
       "\n",
       "                                                text  \n",
       "0  Make a dynamic GridView to fit screen android<...  \n",
       "1  image/video processing options<p>I have a smal...  \n",
       "2  Error while using HttpConnection<p><strong>QUE...  \n",
       "3  Marker icon not showing up but is clickable<p>...  \n",
       "4  Swift - Trouble with SKAction sequence<p>I'm t...  "
      ]
     },
     "execution_count": 7,
     "metadata": {},
     "output_type": "execute_result"
    }
   ],
   "source": [
    "df.head()"
   ]
  },
  {
   "cell_type": "code",
   "execution_count": 8,
   "metadata": {},
   "outputs": [],
   "source": [
    "df.drop(columns=['Title','Body'],inplace=True)"
   ]
  },
  {
   "cell_type": "code",
   "execution_count": 9,
   "metadata": {},
   "outputs": [
    {
     "data": {
      "text/html": [
       "<div>\n",
       "<style scoped>\n",
       "    .dataframe tbody tr th:only-of-type {\n",
       "        vertical-align: middle;\n",
       "    }\n",
       "\n",
       "    .dataframe tbody tr th {\n",
       "        vertical-align: top;\n",
       "    }\n",
       "\n",
       "    .dataframe thead th {\n",
       "        text-align: right;\n",
       "    }\n",
       "</style>\n",
       "<table border=\"1\" class=\"dataframe\">\n",
       "  <thead>\n",
       "    <tr style=\"text-align: right;\">\n",
       "      <th></th>\n",
       "      <th>Tag</th>\n",
       "      <th>text</th>\n",
       "    </tr>\n",
       "  </thead>\n",
       "  <tbody>\n",
       "    <tr>\n",
       "      <th>0</th>\n",
       "      <td>android</td>\n",
       "      <td>Make a dynamic GridView to fit screen android&lt;...</td>\n",
       "    </tr>\n",
       "    <tr>\n",
       "      <th>1</th>\n",
       "      <td>python</td>\n",
       "      <td>image/video processing options&lt;p&gt;I have a smal...</td>\n",
       "    </tr>\n",
       "    <tr>\n",
       "      <th>2</th>\n",
       "      <td>java</td>\n",
       "      <td>Error while using HttpConnection&lt;p&gt;&lt;strong&gt;QUE...</td>\n",
       "    </tr>\n",
       "    <tr>\n",
       "      <th>3</th>\n",
       "      <td>android</td>\n",
       "      <td>Marker icon not showing up but is clickable&lt;p&gt;...</td>\n",
       "    </tr>\n",
       "    <tr>\n",
       "      <th>4</th>\n",
       "      <td>ios</td>\n",
       "      <td>Swift - Trouble with SKAction sequence&lt;p&gt;I'm t...</td>\n",
       "    </tr>\n",
       "  </tbody>\n",
       "</table>\n",
       "</div>"
      ],
      "text/plain": [
       "       Tag                                               text\n",
       "0  android  Make a dynamic GridView to fit screen android<...\n",
       "1   python  image/video processing options<p>I have a smal...\n",
       "2     java  Error while using HttpConnection<p><strong>QUE...\n",
       "3  android  Marker icon not showing up but is clickable<p>...\n",
       "4      ios  Swift - Trouble with SKAction sequence<p>I'm t..."
      ]
     },
     "execution_count": 9,
     "metadata": {},
     "output_type": "execute_result"
    }
   ],
   "source": [
    "df.head()"
   ]
  },
  {
   "cell_type": "code",
   "execution_count": 13,
   "metadata": {},
   "outputs": [],
   "source": [
    "#now the data preprocessing part\n",
    "from nltk.stem import PorterStemmer\n",
    "def clean_text(text):\n",
    "    global EMPTY\n",
    "    EMPTY = ' '\n",
    "    ps = PorterStemmer()\n",
    "    text = re.sub('<[^>]+>',EMPTY,text)\n",
    "    text = re.sub('[\\.\\,\\:\\\"\\']',EMPTY,text)\n",
    "    new_text = ''\n",
    "    for word in text.strip().split():\n",
    "        new_text = new_text+ps.stem(word)\n",
    "    return text"
   ]
  },
  {
   "cell_type": "code",
   "execution_count": null,
   "metadata": {},
   "outputs": [],
   "source": [
    "df['text'] = df['text'].apply(clean_text).str.lower()"
   ]
  },
  {
   "cell_type": "code",
   "execution_count": null,
   "metadata": {},
   "outputs": [],
   "source": []
  }
 ],
 "metadata": {
  "kernelspec": {
   "display_name": "Python 3",
   "language": "python",
   "name": "python3"
  },
  "language_info": {
   "codemirror_mode": {
    "name": "ipython",
    "version": 3
   },
   "file_extension": ".py",
   "mimetype": "text/x-python",
   "name": "python",
   "nbconvert_exporter": "python",
   "pygments_lexer": "ipython3",
   "version": "3.6.7"
  }
 },
 "nbformat": 4,
 "nbformat_minor": 2
}
