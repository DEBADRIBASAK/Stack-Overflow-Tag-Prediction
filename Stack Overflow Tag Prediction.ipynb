{
 "cells": [
  {
   "cell_type": "code",
   "execution_count": 18,
   "metadata": {},
   "outputs": [],
   "source": [
    "import numpy as np\n",
    "import pandas as pd\n",
    "import pickle\n",
    "import re\n",
    "from collections import Counter"
   ]
  },
  {
   "cell_type": "code",
   "execution_count": 19,
   "metadata": {},
   "outputs": [],
   "source": [
    "df = pd.read_pickle('Subset.pkl')"
   ]
  },
  {
   "cell_type": "code",
   "execution_count": 20,
   "metadata": {},
   "outputs": [
    {
     "data": {
      "text/html": [
       "<div>\n",
       "<style scoped>\n",
       "    .dataframe tbody tr th:only-of-type {\n",
       "        vertical-align: middle;\n",
       "    }\n",
       "\n",
       "    .dataframe tbody tr th {\n",
       "        vertical-align: top;\n",
       "    }\n",
       "\n",
       "    .dataframe thead th {\n",
       "        text-align: right;\n",
       "    }\n",
       "</style>\n",
       "<table border=\"1\" class=\"dataframe\">\n",
       "  <thead>\n",
       "    <tr style=\"text-align: right;\">\n",
       "      <th></th>\n",
       "      <th>Title</th>\n",
       "      <th>Body</th>\n",
       "      <th>Tag</th>\n",
       "    </tr>\n",
       "  </thead>\n",
       "  <tbody>\n",
       "    <tr>\n",
       "      <th>0</th>\n",
       "      <td>Make a dynamic GridView to fit screen android</td>\n",
       "      <td>&lt;p&gt;I have a GridView that can contain NxM Cust...</td>\n",
       "      <td>android</td>\n",
       "    </tr>\n",
       "    <tr>\n",
       "      <th>1</th>\n",
       "      <td>image/video processing options</td>\n",
       "      <td>&lt;p&gt;I have a small 12 volt board camera that is...</td>\n",
       "      <td>python</td>\n",
       "    </tr>\n",
       "    <tr>\n",
       "      <th>2</th>\n",
       "      <td>Error while using HttpConnection</td>\n",
       "      <td>&lt;p&gt;&lt;strong&gt;QUESTION&lt;/strong&gt;&lt;/p&gt;\\n\\n&lt;p&gt;I am tr...</td>\n",
       "      <td>java</td>\n",
       "    </tr>\n",
       "    <tr>\n",
       "      <th>3</th>\n",
       "      <td>Marker icon not showing up but is clickable</td>\n",
       "      <td>&lt;p&gt;I've got the following code which gets info...</td>\n",
       "      <td>android</td>\n",
       "    </tr>\n",
       "    <tr>\n",
       "      <th>4</th>\n",
       "      <td>Swift - Trouble with SKAction sequence</td>\n",
       "      <td>&lt;p&gt;I'm trying to move my background image down...</td>\n",
       "      <td>ios</td>\n",
       "    </tr>\n",
       "  </tbody>\n",
       "</table>\n",
       "</div>"
      ],
      "text/plain": [
       "                                           Title  \\\n",
       "0  Make a dynamic GridView to fit screen android   \n",
       "1                 image/video processing options   \n",
       "2               Error while using HttpConnection   \n",
       "3    Marker icon not showing up but is clickable   \n",
       "4         Swift - Trouble with SKAction sequence   \n",
       "\n",
       "                                                Body      Tag  \n",
       "0  <p>I have a GridView that can contain NxM Cust...  android  \n",
       "1  <p>I have a small 12 volt board camera that is...   python  \n",
       "2  <p><strong>QUESTION</strong></p>\\n\\n<p>I am tr...     java  \n",
       "3  <p>I've got the following code which gets info...  android  \n",
       "4  <p>I'm trying to move my background image down...      ios  "
      ]
     },
     "execution_count": 20,
     "metadata": {},
     "output_type": "execute_result"
    }
   ],
   "source": [
    "df.head()"
   ]
  },
  {
   "cell_type": "code",
   "execution_count": 21,
   "metadata": {},
   "outputs": [
    {
     "data": {
      "text/plain": [
       "(22164, 3)"
      ]
     },
     "execution_count": 21,
     "metadata": {},
     "output_type": "execute_result"
    }
   ],
   "source": [
    "df.shape"
   ]
  },
  {
   "cell_type": "code",
   "execution_count": 22,
   "metadata": {},
   "outputs": [],
   "source": [
    "df['text'] = df['Title']+df['Body'] #combining the title with body"
   ]
  },
  {
   "cell_type": "code",
   "execution_count": 23,
   "metadata": {},
   "outputs": [
    {
     "data": {
      "text/html": [
       "<div>\n",
       "<style scoped>\n",
       "    .dataframe tbody tr th:only-of-type {\n",
       "        vertical-align: middle;\n",
       "    }\n",
       "\n",
       "    .dataframe tbody tr th {\n",
       "        vertical-align: top;\n",
       "    }\n",
       "\n",
       "    .dataframe thead th {\n",
       "        text-align: right;\n",
       "    }\n",
       "</style>\n",
       "<table border=\"1\" class=\"dataframe\">\n",
       "  <thead>\n",
       "    <tr style=\"text-align: right;\">\n",
       "      <th></th>\n",
       "      <th>Title</th>\n",
       "      <th>Body</th>\n",
       "      <th>Tag</th>\n",
       "      <th>text</th>\n",
       "    </tr>\n",
       "  </thead>\n",
       "  <tbody>\n",
       "    <tr>\n",
       "      <th>0</th>\n",
       "      <td>Make a dynamic GridView to fit screen android</td>\n",
       "      <td>&lt;p&gt;I have a GridView that can contain NxM Cust...</td>\n",
       "      <td>android</td>\n",
       "      <td>Make a dynamic GridView to fit screen android&lt;...</td>\n",
       "    </tr>\n",
       "    <tr>\n",
       "      <th>1</th>\n",
       "      <td>image/video processing options</td>\n",
       "      <td>&lt;p&gt;I have a small 12 volt board camera that is...</td>\n",
       "      <td>python</td>\n",
       "      <td>image/video processing options&lt;p&gt;I have a smal...</td>\n",
       "    </tr>\n",
       "    <tr>\n",
       "      <th>2</th>\n",
       "      <td>Error while using HttpConnection</td>\n",
       "      <td>&lt;p&gt;&lt;strong&gt;QUESTION&lt;/strong&gt;&lt;/p&gt;\\n\\n&lt;p&gt;I am tr...</td>\n",
       "      <td>java</td>\n",
       "      <td>Error while using HttpConnection&lt;p&gt;&lt;strong&gt;QUE...</td>\n",
       "    </tr>\n",
       "    <tr>\n",
       "      <th>3</th>\n",
       "      <td>Marker icon not showing up but is clickable</td>\n",
       "      <td>&lt;p&gt;I've got the following code which gets info...</td>\n",
       "      <td>android</td>\n",
       "      <td>Marker icon not showing up but is clickable&lt;p&gt;...</td>\n",
       "    </tr>\n",
       "    <tr>\n",
       "      <th>4</th>\n",
       "      <td>Swift - Trouble with SKAction sequence</td>\n",
       "      <td>&lt;p&gt;I'm trying to move my background image down...</td>\n",
       "      <td>ios</td>\n",
       "      <td>Swift - Trouble with SKAction sequence&lt;p&gt;I'm t...</td>\n",
       "    </tr>\n",
       "  </tbody>\n",
       "</table>\n",
       "</div>"
      ],
      "text/plain": [
       "                                           Title  \\\n",
       "0  Make a dynamic GridView to fit screen android   \n",
       "1                 image/video processing options   \n",
       "2               Error while using HttpConnection   \n",
       "3    Marker icon not showing up but is clickable   \n",
       "4         Swift - Trouble with SKAction sequence   \n",
       "\n",
       "                                                Body      Tag  \\\n",
       "0  <p>I have a GridView that can contain NxM Cust...  android   \n",
       "1  <p>I have a small 12 volt board camera that is...   python   \n",
       "2  <p><strong>QUESTION</strong></p>\\n\\n<p>I am tr...     java   \n",
       "3  <p>I've got the following code which gets info...  android   \n",
       "4  <p>I'm trying to move my background image down...      ios   \n",
       "\n",
       "                                                text  \n",
       "0  Make a dynamic GridView to fit screen android<...  \n",
       "1  image/video processing options<p>I have a smal...  \n",
       "2  Error while using HttpConnection<p><strong>QUE...  \n",
       "3  Marker icon not showing up but is clickable<p>...  \n",
       "4  Swift - Trouble with SKAction sequence<p>I'm t...  "
      ]
     },
     "execution_count": 23,
     "metadata": {},
     "output_type": "execute_result"
    }
   ],
   "source": [
    "df.head()"
   ]
  },
  {
   "cell_type": "code",
   "execution_count": 24,
   "metadata": {},
   "outputs": [],
   "source": [
    "df.drop(columns=['Title','Body'],inplace=True)"
   ]
  },
  {
   "cell_type": "code",
   "execution_count": 25,
   "metadata": {},
   "outputs": [
    {
     "data": {
      "text/html": [
       "<div>\n",
       "<style scoped>\n",
       "    .dataframe tbody tr th:only-of-type {\n",
       "        vertical-align: middle;\n",
       "    }\n",
       "\n",
       "    .dataframe tbody tr th {\n",
       "        vertical-align: top;\n",
       "    }\n",
       "\n",
       "    .dataframe thead th {\n",
       "        text-align: right;\n",
       "    }\n",
       "</style>\n",
       "<table border=\"1\" class=\"dataframe\">\n",
       "  <thead>\n",
       "    <tr style=\"text-align: right;\">\n",
       "      <th></th>\n",
       "      <th>Tag</th>\n",
       "      <th>text</th>\n",
       "    </tr>\n",
       "  </thead>\n",
       "  <tbody>\n",
       "    <tr>\n",
       "      <th>0</th>\n",
       "      <td>android</td>\n",
       "      <td>Make a dynamic GridView to fit screen android&lt;...</td>\n",
       "    </tr>\n",
       "    <tr>\n",
       "      <th>1</th>\n",
       "      <td>python</td>\n",
       "      <td>image/video processing options&lt;p&gt;I have a smal...</td>\n",
       "    </tr>\n",
       "    <tr>\n",
       "      <th>2</th>\n",
       "      <td>java</td>\n",
       "      <td>Error while using HttpConnection&lt;p&gt;&lt;strong&gt;QUE...</td>\n",
       "    </tr>\n",
       "    <tr>\n",
       "      <th>3</th>\n",
       "      <td>android</td>\n",
       "      <td>Marker icon not showing up but is clickable&lt;p&gt;...</td>\n",
       "    </tr>\n",
       "    <tr>\n",
       "      <th>4</th>\n",
       "      <td>ios</td>\n",
       "      <td>Swift - Trouble with SKAction sequence&lt;p&gt;I'm t...</td>\n",
       "    </tr>\n",
       "  </tbody>\n",
       "</table>\n",
       "</div>"
      ],
      "text/plain": [
       "       Tag                                               text\n",
       "0  android  Make a dynamic GridView to fit screen android<...\n",
       "1   python  image/video processing options<p>I have a smal...\n",
       "2     java  Error while using HttpConnection<p><strong>QUE...\n",
       "3  android  Marker icon not showing up but is clickable<p>...\n",
       "4      ios  Swift - Trouble with SKAction sequence<p>I'm t..."
      ]
     },
     "execution_count": 25,
     "metadata": {},
     "output_type": "execute_result"
    }
   ],
   "source": [
    "df.head()"
   ]
  },
  {
   "cell_type": "code",
   "execution_count": 29,
   "metadata": {},
   "outputs": [],
   "source": [
    "from nltk.stem import PorterStemmer\n",
    "from nltk.corpus import stopwords\n",
    "s = set(stopwords.words('english'))"
   ]
  },
  {
   "cell_type": "code",
   "execution_count": 31,
   "metadata": {},
   "outputs": [],
   "source": [
    "#now the data preprocessing part\n",
    "def clean_text(text):\n",
    "    global EMPTY\n",
    "    EMPTY = ' '\n",
    "    ps = PorterStemmer()\n",
    "    text = re.sub('<[^>]+>',EMPTY,text)\n",
    "    text = re.sub('[\\.\\,\\:\\\"\\'\\/\\+\\@\\=\\;\\&\\*\\(\\)]',EMPTY,text)\n",
    "    text = re.sub('[0-9]+',EMPTY,text)\n",
    "    new_text = ''\n",
    "    for word in text.strip().split():\n",
    "        if word not in s:\n",
    "            new_text = new_text+ps.stem(word)+' '\n",
    "    return new_text.strip()"
   ]
  },
  {
   "cell_type": "code",
   "execution_count": 32,
   "metadata": {},
   "outputs": [],
   "source": [
    "df['text'] = df['text'].apply(clean_text).str.lower()"
   ]
  },
  {
   "cell_type": "code",
   "execution_count": 34,
   "metadata": {},
   "outputs": [
    {
     "data": {
      "text/plain": [
       "'imag video process option i small volt board camera place insid bee hive it lit infrar led bee see infrar it send simpl ntsc signal along wire littl tv monitor i thi allow see insid hive without disturb bee the queen dot back obviou frame i would like someth process signal regist queen frame thi accur count instead process video would fine take imag everi second see certain amount bright indic queen frame thi use sinc help bee keeper know queen aliv appear number day could mean someth wrong i would love hear suggest inexpens way process video especi low power consumpt raspberri pi? arduino? camera exampl sampl video queen frame'"
      ]
     },
     "execution_count": 34,
     "metadata": {},
     "output_type": "execute_result"
    }
   ],
   "source": [
    "df['text'][1]"
   ]
  },
  {
   "cell_type": "code",
   "execution_count": 35,
   "metadata": {},
   "outputs": [],
   "source": [
    "tag = Counter(df['Tag']).most_common()"
   ]
  },
  {
   "cell_type": "code",
   "execution_count": 36,
   "metadata": {},
   "outputs": [
    {
     "data": {
      "text/plain": [
       "[('javascript', 3272),\n",
       " ('java', 3115),\n",
       " ('c#', 2723),\n",
       " ('php', 2680),\n",
       " ('android', 2498),\n",
       " ('jquery', 2099),\n",
       " ('python', 1726),\n",
       " ('html', 1527),\n",
       " ('c++', 1298),\n",
       " ('ios', 1226)]"
      ]
     },
     "execution_count": 36,
     "metadata": {},
     "output_type": "execute_result"
    }
   ],
   "source": [
    "tag"
   ]
  },
  {
   "cell_type": "code",
   "execution_count": 37,
   "metadata": {},
   "outputs": [],
   "source": [
    "tag = dict(tag)"
   ]
  },
  {
   "cell_type": "code",
   "execution_count": 38,
   "metadata": {},
   "outputs": [
    {
     "data": {
      "text/plain": [
       "{'javascript': 3272,\n",
       " 'java': 3115,\n",
       " 'c#': 2723,\n",
       " 'php': 2680,\n",
       " 'android': 2498,\n",
       " 'jquery': 2099,\n",
       " 'python': 1726,\n",
       " 'html': 1527,\n",
       " 'c++': 1298,\n",
       " 'ios': 1226}"
      ]
     },
     "execution_count": 38,
     "metadata": {},
     "output_type": "execute_result"
    }
   ],
   "source": [
    "tag"
   ]
  },
  {
   "cell_type": "code",
   "execution_count": 40,
   "metadata": {},
   "outputs": [
    {
     "data": {
      "image/png": "[encoded data removed]",
      "text/plain": [
       "<Figure size 432x288 with 1 Axes>"
      ]
     },
     "metadata": {
      "needs_background": "light"
     },
     "output_type": "display_data"
    }
   ],
   "source": [
    "import matplotlib.pyplot as plt\n",
    "plt.bar(*zip(*tag.items()))\n",
    "plt.show()"
   ]
  },
  {
   "cell_type": "code",
   "execution_count": 41,
   "metadata": {},
   "outputs": [],
   "source": [
    "from sklearn.model_selection import train_test_split\n",
    "from sklearn.feature_extraction.text import TfidfVectorizer\n",
    "from sklearn.svm import LinearSVC\n",
    "from sklearn.naive_bayes import BernoulliNB, MultinomialNB"
   ]
  },
  {
   "cell_type": "code",
   "execution_count": 42,
   "metadata": {},
   "outputs": [],
   "source": [
    "x_train,x_test,y_train,y_test = train_test_split(df['text'],df['Tag'],random_state=37,test_size=0.2,shuffle=True)"
   ]
  },
  {
   "cell_type": "code",
   "execution_count": 44,
   "metadata": {},
   "outputs": [
    {
     "data": {
      "text/plain": [
       "17224    chang sourc code onlin i tri allow client chan...\n",
       "11173    pars json data use php i want pars formattedam...\n",
       "15503    scan detect object color imag i develop softwa...\n",
       "1058     how access properti return jqueri jqxhr object...\n",
       "9665     pass non static member function paramet i lot ...\n",
       "8809     error sqlite queri android i need find string ...\n",
       "9394     android applic launch consol is possibl make c...\n",
       "16123    mouseup event drag i link mousedown mouseup ha...\n",
       "6382     error start activ servic android i receiv list...\n",
       "21177    how emb googlebook search api view? i code goo...\n",
       "2159     navig view checkablebehavior none work latest ...\n",
       "17672    how make digit round? i want number - - i want...\n",
       "7070     continu write data differ class text file i di...\n",
       "3077     titanium android applic crash first open kitka...\n",
       "13089    supers full-screen slider vertic thumb-tray i ...\n",
       "2195     algorithm compar d signal data acceleromet i w...\n",
       "3730     set imag path createtrackbar i work opencv pro...\n",
       "10376    compar line file i tri compar file file file f...\n",
       "5258     set permiss requir add user domaina group doma...\n",
       "6853     how i past string activ window python? possibl...\n",
       "5637     get valu input element php javascript mixtur h...\n",
       "16207    servicestack - disabl default except log in li...\n",
       "16894    implement class iter iter map creat class iter...\n",
       "6021     control return self close encount pyqt i tri m...\n",
       "14656    python display elaps time shell when i run pyt...\n",
       "21597    asp mvc pass data custom editor templat i use ...\n",
       "10102    webview client listen shouldoverrideurlload in...\n",
       "1138     chang background particular row listview i dev...\n",
       "19455    gmail api net quickstart json pars except cons...\n",
       "15976    explan object liter java script whi access sec...\n",
       "                               ...                        \n",
       "17978    problem tri deploy web applic i problem creat ...\n",
       "2499     upload differ uniqu file server name save data...\n",
       "19801    how pars xpath statement c# i xpath contain st...\n",
       "7580     fluent nhibern creat in part where claus i flu...\n",
       "3970     get reflect field gener compil recent i write ...\n",
       "21706    how fix error wcf error - the server provid me...\n",
       "20209    print boolean valu printf i want print boolean...\n",
       "16628    enabl exchang mailbox i tri creat enabl mailbo...\n",
       "7832     how replac placehold letter url? i url i send ...\n",
       "17427    use string input anoth class i class string ta...\n",
       "15130    how i tell point belong certain line? how i te...\n",
       "10072    how i reliabl captur screen resolut use action...\n",
       "10842    i get warn implicit convers lose integ precis ...\n",
       "19084    visual studio c# set class startup object anyo...\n",
       "984      wcf websit return json wherea wcf servic appli...\n",
       "21324    c design suggest i made program java back esse...\n",
       "16771    castl activerecord - nd level cach - need expl...\n",
       "17896    can get file list ftp android i want connect f...\n",
       "12350    who implement inflat c# dankogai javascript de...\n",
       "18399    how rewrit subsit paramet html my old websit u...\n",
       "10967    bootstrap button group display properli footer...\n",
       "10584    window azur mvc websit display html i recent u...\n",
       "20010    modal window foundat reveal js pass variabl ta...\n",
       "6595     don know build task android config i tri work ...\n",
       "11898    wcf rest servic window authent ssl i wcf rest ...\n",
       "4118     javascript rock paper scissor game syntax issu...\n",
       "988      nest horizon menu updat i want make -level hor...\n",
       "9036     doe io app continu run background app store up...\n",
       "20843    googl storag resum upload rang header i upload...\n",
       "1935     ie fail fire onscrol event htmlwindow bho ie f...\n",
       "Name: text, Length: 17731, dtype: object"
      ]
     },
     "execution_count": 44,
     "metadata": {},
     "output_type": "execute_result"
    }
   ],
   "source": [
    "x_train"
   ]
  },
  {
   "cell_type": "code",
   "execution_count": 45,
   "metadata": {},
   "outputs": [],
   "source": [
    "vectorizer = TfidfVectorizer(sublinear_tf=True,max_df=0.5,stop_words='english')"
   ]
  },
  {
   "cell_type": "code",
   "execution_count": 68,
   "metadata": {},
   "outputs": [
    {
     "name": "stdout",
     "output_type": "stream",
     "text": [
      "Time taken: 1.806134s\n"
     ]
    }
   ],
   "source": [
    "from time import time\n",
    "t0 = time()\n",
    "x_train_vector = vectorizer.fit_transform(x_train)\n",
    "duration = time()-t0\n",
    "print('Time taken: %fs' %(duration))"
   ]
  },
  {
   "cell_type": "code",
   "execution_count": 69,
   "metadata": {},
   "outputs": [
    {
     "data": {
      "text/plain": [
       "<17731x110688 sparse matrix of type '<class 'numpy.float64'>'\n",
       "\twith 985428 stored elements in Compressed Sparse Row format>"
      ]
     },
     "execution_count": 69,
     "metadata": {},
     "output_type": "execute_result"
    }
   ],
   "source": [
    "x_train_vector"
   ]
  },
  {
   "cell_type": "code",
   "execution_count": 70,
   "metadata": {},
   "outputs": [],
   "source": [
    "x_test_vector = vectorizer.transform(x_test)"
   ]
  },
  {
   "cell_type": "code",
   "execution_count": 71,
   "metadata": {},
   "outputs": [],
   "source": [
    "feature_name = vectorizer.get_feature_names()\n",
    "if feature_name:\n",
    "    feature_name = np.asarray(feature_name)"
   ]
  },
  {
   "cell_type": "code",
   "execution_count": 72,
   "metadata": {},
   "outputs": [],
   "source": [
    "catagories = df.Tag.unique()"
   ]
  },
  {
   "cell_type": "code",
   "execution_count": 73,
   "metadata": {},
   "outputs": [
    {
     "data": {
      "text/plain": [
       "array(['android', 'python', 'java', 'ios', 'c#', 'jquery', 'javascript',\n",
       "       'c++', 'html', 'php'], dtype=object)"
      ]
     },
     "execution_count": 73,
     "metadata": {},
     "output_type": "execute_result"
    }
   ],
   "source": [
    "catagories"
   ]
  },
  {
   "cell_type": "code",
   "execution_count": 79,
   "metadata": {},
   "outputs": [],
   "source": [
    "from sklearn import metrics\n",
    "from sklearn.pipeline import Pipeline\n",
    "def training(clf):\n",
    "    print('='*80)\n",
    "    print('Classifier Name: ')\n",
    "    print(clf)\n",
    "    t0 = time()\n",
    "    clf.fit(x_train_vector,y_train)\n",
    "    train_time = time()-t0\n",
    "    print('Training time: %f'%(train_time))\n",
    "    t0 = time()\n",
    "    pred = clf.predict(x_test_vector)\n",
    "    print('Test time: %f'%(time()-t0))\n",
    "    print('Accuracy: %f',metrics.accuracy_score(y_test,pred))\n",
    "    print(metrics.classification_report(y_test, pred,target_names=catagories))\n",
    "    mat = metrics.confusion_matrix(y_test, pred)\n",
    "    plt.matshow(mat)\n",
    "    plt.show()"
   ]
  },
  {
   "cell_type": "code",
   "execution_count": 80,
   "metadata": {},
   "outputs": [
    {
     "data": {
      "text/plain": [
       "(17731, 110688)"
      ]
     },
     "execution_count": 80,
     "metadata": {},
     "output_type": "execute_result"
    }
   ],
   "source": [
    "x_train_vector.shape"
   ]
  },
  {
   "cell_type": "code",
   "execution_count": 81,
   "metadata": {},
   "outputs": [
    {
     "data": {
      "text/plain": [
       "(4433, 110688)"
      ]
     },
     "execution_count": 81,
     "metadata": {},
     "output_type": "execute_result"
    }
   ],
   "source": [
    "x_test_vector.shape"
   ]
  },
  {
   "cell_type": "code",
   "execution_count": 82,
   "metadata": {},
   "outputs": [
    {
     "name": "stdout",
     "output_type": "stream",
     "text": [
      "Naive Bayes:\n",
      "================================================================================\n",
      "Classifier Name: \n",
      "MultinomialNB(alpha=0.1, class_prior=None, fit_prior=True)\n",
      "Training time: 0.120791\n",
      "Test time: 0.006818\n",
      "Accuracy: %f 0.6548612677644936\n",
      "              precision    recall  f1-score   support\n",
      "\n",
      "     android       0.76      0.71      0.74       508\n",
      "      python       0.83      0.77      0.80       543\n",
      "        java       0.95      0.56      0.71       238\n",
      "         ios       0.56      0.21      0.31       284\n",
      "          c#       0.97      0.58      0.73       245\n",
      "      jquery       0.64      0.78      0.70       658\n",
      "  javascript       0.40      0.84      0.55       637\n",
      "         c++       0.63      0.22      0.32       429\n",
      "        html       0.75      0.80      0.77       527\n",
      "         php       0.96      0.63      0.76       364\n",
      "\n",
      "   micro avg       0.65      0.65      0.65      4433\n",
      "   macro avg       0.75      0.61      0.64      4433\n",
      "weighted avg       0.71      0.65      0.65      4433\n",
      "\n"
     ]
    },
    {
     "data": {
      "image/png": "[encoded data removed]",
      "text/plain": [
       "<Figure size 288x288 with 1 Axes>"
      ]
     },
     "metadata": {
      "needs_background": "light"
     },
     "output_type": "display_data"
    },
    {
     "name": "stdout",
     "output_type": "stream",
     "text": [
      "================================================================================\n",
      "Classifier Name: \n",
      "BernoulliNB(alpha=0.1, binarize=0.0, class_prior=None, fit_prior=True)\n",
      "Training time: 0.115736\n",
      "Test time: 0.040146\n",
      "Accuracy: %f 0.6803519061583577\n",
      "              precision    recall  f1-score   support\n",
      "\n",
      "     android       0.81      0.60      0.69       508\n",
      "      python       0.76      0.82      0.79       543\n",
      "        java       0.76      0.72      0.74       238\n",
      "         ios       0.48      0.36      0.41       284\n",
      "          c#       0.92      0.80      0.85       245\n",
      "      jquery       0.78      0.65      0.71       658\n",
      "  javascript       0.47      0.68      0.55       637\n",
      "         c++       0.53      0.40      0.45       429\n",
      "        html       0.74      0.84      0.79       527\n",
      "         php       0.77      0.87      0.82       364\n",
      "\n",
      "   micro avg       0.68      0.68      0.68      4433\n",
      "   macro avg       0.70      0.67      0.68      4433\n",
      "weighted avg       0.69      0.68      0.68      4433\n",
      "\n"
     ]
    },
    {
     "data": {
      "image/png": "[encoded data removed]",
      "text/plain": [
       "<Figure size 288x288 with 1 Axes>"
      ]
     },
     "metadata": {
      "needs_background": "light"
     },
     "output_type": "display_data"
    }
   ],
   "source": [
    "#Naive Bayes\n",
    "\n",
    "print('Naive Bayes:')\n",
    "\n",
    "clf1 = MultinomialNB(alpha=0.1)\n",
    "clf2 = BernoulliNB(alpha=0.1)\n",
    "training(clf1)\n",
    "training(clf2)"
   ]
  },
  {
   "cell_type": "code",
   "execution_count": 83,
   "metadata": {},
   "outputs": [
    {
     "name": "stdout",
     "output_type": "stream",
     "text": [
      "Ridge Classifier: \n",
      "================================================================================\n",
      "Classifier Name: \n",
      "RidgeClassifier(alpha=1.0, class_weight=None, copy_X=True, fit_intercept=True,\n",
      "        max_iter=None, normalize=False, random_state=None, solver='lsqr',\n",
      "        tol=0.01)\n"
     ]
    },
    {
     "name": "stderr",
     "output_type": "stream",
     "text": [
      "/home/debadri/.local/lib/python3.6/site-packages/sklearn/linear_model/ridge.py:332: UserWarning: In Ridge, only 'sag' solver can currently fit the intercept when X is sparse. Solver has been automatically changed into 'sag'.\n",
      "  warnings.warn(\"In Ridge, only 'sag' solver can currently fit the \"\n"
     ]
    },
    {
     "name": "stdout",
     "output_type": "stream",
     "text": [
      "Training time: 3.333447\n",
      "Test time: 0.010618\n",
      "Accuracy: %f 0.7653958944281525\n",
      "              precision    recall  f1-score   support\n",
      "\n",
      "     android       0.79      0.86      0.82       508\n",
      "      python       0.80      0.86      0.83       543\n",
      "        java       0.89      0.78      0.83       238\n",
      "         ios       0.54      0.44      0.49       284\n",
      "          c#       0.93      0.87      0.90       245\n",
      "      jquery       0.82      0.79      0.80       658\n",
      "  javascript       0.60      0.67      0.64       637\n",
      "         c++       0.59      0.52      0.55       429\n",
      "        html       0.81      0.89      0.85       527\n",
      "         php       0.96      0.91      0.94       364\n",
      "\n",
      "   micro avg       0.77      0.77      0.77      4433\n",
      "   macro avg       0.78      0.76      0.76      4433\n",
      "weighted avg       0.77      0.77      0.76      4433\n",
      "\n"
     ]
    },
    {
     "data": {
      "image/png": "[encoded data removed]",
      "text/plain": [
       "<Figure size 288x288 with 1 Axes>"
      ]
     },
     "metadata": {
      "needs_background": "light"
     },
     "output_type": "display_data"
    }
   ],
   "source": [
    "from sklearn.linear_model import RidgeClassifier\n",
    "\n",
    "#trying with RidgeClassifier\n",
    "print('Ridge Classifier: ')\n",
    "clf3 = RidgeClassifier(tol=1e-2, solver=\"lsqr\")\n",
    "training(clf3)"
   ]
  },
  {
   "cell_type": "code",
   "execution_count": 85,
   "metadata": {},
   "outputs": [
    {
     "data": {
      "text/plain": [
       "<1x110688 sparse matrix of type '<class 'numpy.float64'>'\n",
       "\twith 17 stored elements in Compressed Sparse Row format>"
      ]
     },
     "execution_count": 85,
     "metadata": {},
     "output_type": "execute_result"
    }
   ],
   "source": [
    "x_test_vector[10]"
   ]
  },
  {
   "cell_type": "code",
   "execution_count": 93,
   "metadata": {},
   "outputs": [
    {
     "data": {
      "text/plain": [
       "array(['php'], dtype='<U10')"
      ]
     },
     "execution_count": 93,
     "metadata": {},
     "output_type": "execute_result"
    }
   ],
   "source": [
    "clf1.predict(x_test_vector[4])"
   ]
  },
  {
   "cell_type": "code",
   "execution_count": 91,
   "metadata": {
    "collapsed": true
   },
   "outputs": [
    {
     "data": {
      "text/plain": [
       "2141         python\n",
       "16427            c#\n",
       "10591            c#\n",
       "12270        jquery\n",
       "3008            php\n",
       "6260         python\n",
       "5318         jquery\n",
       "2389         python\n",
       "14092       android\n",
       "9876           html\n",
       "22005        python\n",
       "11576    javascript\n",
       "4193           java\n",
       "27       javascript\n",
       "8629           java\n",
       "12240            c#\n",
       "7541        android\n",
       "2881     javascript\n",
       "22094        jquery\n",
       "6032     javascript\n",
       "4814           html\n",
       "8708             c#\n",
       "3153            c++\n",
       "18026    javascript\n",
       "19971          html\n",
       "1328            ios\n",
       "5708             c#\n",
       "1662         jquery\n",
       "19548        python\n",
       "3441         python\n",
       "            ...    \n",
       "2799     javascript\n",
       "16445            c#\n",
       "16094    javascript\n",
       "6989         python\n",
       "6060           java\n",
       "13500    javascript\n",
       "1171     javascript\n",
       "6979             c#\n",
       "8654            php\n",
       "21387            c#\n",
       "15090    javascript\n",
       "12735           ios\n",
       "7813           java\n",
       "3410        android\n",
       "19713           php\n",
       "14352        jquery\n",
       "5254         jquery\n",
       "5798           java\n",
       "21760           c++\n",
       "11920          java\n",
       "4938         python\n",
       "2826         jquery\n",
       "8368           java\n",
       "21978          html\n",
       "16164          html\n",
       "12062    javascript\n",
       "4672            php\n",
       "7374         python\n",
       "4869            ios\n",
       "16382    javascript\n",
       "Name: Tag, Length: 4433, dtype: object"
      ]
     },
     "execution_count": 91,
     "metadata": {},
     "output_type": "execute_result"
    }
   ],
   "source": [
    "y_test"
   ]
  },
  {
   "cell_type": "code",
   "execution_count": 95,
   "metadata": {},
   "outputs": [],
   "source": [
    "with open('Multinomial.pkl','wb') as myfile:\n",
    "    pickle.dump(clf1,myfile)"
   ]
  },
  {
   "cell_type": "code",
   "execution_count": 97,
   "metadata": {},
   "outputs": [
    {
     "name": "stdout",
     "output_type": "stream",
     "text": [
      "Nearest Centroid: \n",
      "================================================================================\n",
      "Classifier Name: \n",
      "NearestCentroid(metric='euclidean', shrink_threshold=None)\n",
      "Training time: 0.526993\n",
      "Test time: 0.168034\n",
      "Accuracy: %f 0.6866681705391383\n",
      "              precision    recall  f1-score   support\n",
      "\n",
      "     android       0.84      0.76      0.80       508\n",
      "      python       0.56      0.84      0.67       543\n",
      "        java       0.82      0.69      0.75       238\n",
      "         ios       0.37      0.60      0.45       284\n",
      "          c#       0.77      0.87      0.81       245\n",
      "      jquery       0.81      0.68      0.74       658\n",
      "  javascript       0.63      0.47      0.54       637\n",
      "         c++       0.56      0.47      0.51       429\n",
      "        html       0.81      0.76      0.78       527\n",
      "         php       0.92      0.84      0.88       364\n",
      "\n",
      "   micro avg       0.69      0.69      0.69      4433\n",
      "   macro avg       0.71      0.70      0.69      4433\n",
      "weighted avg       0.71      0.69      0.69      4433\n",
      "\n"
     ]
    },
    {
     "data": {
      "image/png": "[encoded data removed]",
      "text/plain": [
       "<Figure size 288x288 with 1 Axes>"
      ]
     },
     "metadata": {
      "needs_background": "light"
     },
     "output_type": "display_data"
    }
   ],
   "source": [
    "from sklearn.neighbors import NearestCentroid\n",
    "clf4 = NearestCentroid()\n",
    "print('Nearest Centroid: ')\n",
    "training(clf4)"
   ]
  },
  {
   "cell_type": "code",
   "execution_count": 98,
   "metadata": {},
   "outputs": [],
   "source": [
    "with open('NearestCentroid.pkl','wb') as myfile:\n",
    "    pickle.dump(clf4,myfilefile)"
   ]
  },
  {
   "cell_type": "code",
   "execution_count": 99,
   "metadata": {},
   "outputs": [],
   "source": [
    "with open('BernoulliNB.pkl','wb') as myfile:\n",
    "    pickle.dump(clf2,myfile)"
   ]
  },
  {
   "cell_type": "code",
   "execution_count": 100,
   "metadata": {},
   "outputs": [],
   "source": [
    "with open('Ridge.pkl','wb') as myfile:\n",
    "    pickle.dump(clf3,myfile)"
   ]
  },
  {
   "cell_type": "code",
   "execution_count": null,
   "metadata": {},
   "outputs": [],
   "source": []
  }
 ],
 "metadata": {
  "kernelspec": {
   "display_name": "Python 3",
   "language": "python",
   "name": "python3"
  },
  "language_info": {
   "codemirror_mode": {
    "name": "ipython",
    "version": 3
   },
   "file_extension": ".py",
   "mimetype": "text/x-python",
   "name": "python",
   "nbconvert_exporter": "python",
   "pygments_lexer": "ipython3",
   "version": "3.6.7"
  }
 },
 "nbformat": 4,
 "nbformat_minor": 2
}
